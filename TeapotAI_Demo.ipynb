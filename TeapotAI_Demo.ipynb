{
 "cells": [
  {
   "cell_type": "markdown",
   "metadata": {},
   "source": [
    "# 🫖 TeapotAI RAG Demo\n",
    "\n",
    "This notebook demonstrates TeapotAI's Retrieval-Augmented Generation capabilities.\n",
    "\n",
    "## What is RAG?\n",
    "- **Retrieval**: Find relevant documents from knowledge base\n",
    "- **Augmentation**: Use retrieved info to enhance answer quality\n",
    "- **Generation**: Create accurate, factual responses"
   ]
  },
  {
   "cell_type": "code",
   "execution_count": null,
   "metadata": {},
   "outputs": [],
   "source": [
    "# Import the demo RAG system\n",
    "exec(open('demo_rag.py').read())"
   ]
  },
  {
   "cell_type": "code",
   "execution_count": null,
   "metadata": {},
   "outputs": [],
   "source": [
    "# Initialize RAG system\n",
    "rag = SimpleRAG(documents)\n",
    "\n",
    "# Show available documents\n",
    "print(\"📚 Knowledge Base:\")\n",
    "for i, doc in enumerate(documents, 1):\n",
    "    print(f\"{i}. {doc[:50]}...\")"
   ]
  },
  {
   "cell_type": "code",
   "execution_count": null,
   "metadata": {},
   "outputs": [],
   "source": [
    "# Demo question answering\n",
    "questions = [\n",
    "    \"How tall is the Eiffel Tower?\",\n",
    "    \"What was built in 1889?\",\n",
    "    \"Which is the longest river?\"\n",
    "]\n",
    "\n",
    "for q in questions:\n",
    "    print(f\"❓ {q}\")\n",
    "    answer = rag.answer_question(q)\n",
    "    docs = rag.retrieve(q)\n",
    "    print(f\"✅ {answer}\")\n",
    "    print(f\"📄 Sources: {len(docs)} documents\\n\")"
   ]
  },
  {
   "cell_type": "code",
   "execution_count": null,
   "metadata": {},
   "outputs": [],
   "source": [
    "# Try your own question!\n",
    "my_question = \"Where is the Colosseum located?\"\n",
    "answer = rag.answer_question(my_question)\n",
    "print(f\"Q: {my_question}\")\n",
    "print(f\"A: {answer}\")"
   ]
  }
 ],
 "metadata": {
  "kernelspec": {
   "display_name": "Python 3",
   "language": "python",
   "name": "python3"
  },
  "language_info": {
   "codemirror_mode": {
    "name": "ipython",
    "version": 3
   },
   "file_extension": ".py",
   "name": "python",
   "nbconvert_exporter": "python",
   "pygments_lexer": "ipython3",
   "version": "3.8.5"
  }
 },
 "nbformat": 4,
 "nbformat_minor": 4
}